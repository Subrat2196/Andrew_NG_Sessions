{
 "cells": [
  {
   "cell_type": "code",
   "execution_count": 3,
   "id": "ce9d866d-4ff0-41cd-a8a1-f269568aedc2",
   "metadata": {},
   "outputs": [],
   "source": [
    "import numpy as np\n",
    "import tensorflow as tf\n",
    "from tensorflow.keras.layers import Dense,Input\n",
    "from tensorflow.keras import Sequential\n",
    "from tensorflow.keras.losses import MeanAbsoluteError,MeanSquaredError,BinaryCrossentropy\n",
    "from tensorflow.keras.activations import sigmoid"
   ]
  },
  {
   "cell_type": "code",
   "execution_count": 7,
   "id": "30551b0e-9e8a-4554-bca2-7f43ad2f849d",
   "metadata": {},
   "outputs": [],
   "source": [
    "import matplotlib.pyplot as plt\n",
    "%matplotlib inline"
   ]
  },
  {
   "cell_type": "markdown",
   "id": "68cb7aa3-57f4-4013-99ad-ff288fff112e",
   "metadata": {},
   "source": [
    "## Neuron with Linear Models"
   ]
  },
  {
   "cell_type": "markdown",
   "id": "ae98845e-31f4-4367-a0eb-01fc042539db",
   "metadata": {},
   "source": [
    "#### DataSet"
   ]
  },
  {
   "cell_type": "code",
   "execution_count": 4,
   "id": "1b748b33-5ec4-4e1e-8ded-f6d6642ca997",
   "metadata": {},
   "outputs": [],
   "source": [
    "x_train = np.array([[1.0],[2.0]],dtype=np.float32)\n",
    "y_train = np.array([[300.0],[500.0]],dtype=np.float32)"
   ]
  },
  {
   "cell_type": "code",
   "execution_count": 5,
   "id": "21c55b26-2fe7-4d90-9199-f37e4c1be548",
   "metadata": {},
   "outputs": [
    {
     "data": {
      "text/plain": [
       "(2, 1)"
      ]
     },
     "execution_count": 5,
     "metadata": {},
     "output_type": "execute_result"
    }
   ],
   "source": [
    "x_train.shape"
   ]
  },
  {
   "cell_type": "code",
   "execution_count": 6,
   "id": "b0904861-9485-4249-88ff-1cbbb7dedeeb",
   "metadata": {},
   "outputs": [
    {
     "data": {
      "text/plain": [
       "(2, 1)"
      ]
     },
     "execution_count": 6,
     "metadata": {},
     "output_type": "execute_result"
    }
   ],
   "source": [
    "y_train.shape"
   ]
  },
  {
   "cell_type": "markdown",
   "id": "b629dd0f-4e20-45c7-b865-b27a997995d7",
   "metadata": {},
   "source": [
    "#### plotting it"
   ]
  },
  {
   "cell_type": "code",
   "execution_count": 9,
   "id": "a0526bf5-d06f-4d02-b8be-572685f56fa4",
   "metadata": {},
   "outputs": [
    {
     "data": {
      "image/png": "[encoded data removed]",
      "text/plain": [
       "<Figure size 640x480 with 1 Axes>"
      ]
     },
     "metadata": {},
     "output_type": "display_data"
    }
   ],
   "source": [
    "fix , ax = plt.subplots(1,1)\n",
    "ax.scatter(x_train,y_train,marker='x', c='r', label=\"Data Points\")\n",
    "ax.set_ylabel('Price in 1000s dollar')\n",
    "ax.set_xlabel('Size in 1000 sqft')\n",
    "plt.show()"
   ]
  },
  {
   "cell_type": "markdown",
   "id": "f05f3e1a-8ab0-4f0f-9b7b-0d424a653ba7",
   "metadata": {},
   "source": [
    "## Neuron without activation or Linear/Regression model"
   ]
  },
  {
   "cell_type": "markdown",
   "id": "baf1fe5c-1df9-4cbe-9bfd-91ef929c5f4d",
   "metadata": {},
   "source": [
    "#### Defing a layer with only 1 neuron"
   ]
  },
  {
   "cell_type": "code",
   "execution_count": 25,
   "id": "42d735c7-017c-467f-8888-edfc7f4701db",
   "metadata": {},
   "outputs": [],
   "source": [
    "linear_layer = Dense(units=1,activation='linear')"
   ]
  },
  {
   "cell_type": "code",
   "execution_count": 26,
   "id": "11109289-ae81-4491-b7c8-bc7ad531df18",
   "metadata": {},
   "outputs": [
    {
     "data": {
      "text/plain": [
       "<Dense name=dense_1, built=False>"
      ]
     },
     "execution_count": 26,
     "metadata": {},
     "output_type": "execute_result"
    }
   ],
   "source": [
    "linear_layer"
   ]
  },
  {
   "cell_type": "code",
   "execution_count": 27,
   "id": "b2e6ac5c-623b-4d28-bbe1-cc67c4248a2a",
   "metadata": {},
   "outputs": [
    {
     "data": {
      "text/plain": [
       "[]"
      ]
     },
     "execution_count": 27,
     "metadata": {},
     "output_type": "execute_result"
    }
   ],
   "source": [
    "linear_layer.get_weights()"
   ]
  },
  {
   "cell_type": "markdown",
   "id": "6d2b9092-40f3-4755-8c34-ce5bed8ee66d",
   "metadata": {},
   "source": [
    "##### we can see the model didnt had any weights till now , but after we give the model some data it will get the weights"
   ]
  },
  {
   "cell_type": "code",
   "execution_count": 28,
   "id": "5656a83e-d2ec-4fb5-9859-1ec071d641fd",
   "metadata": {},
   "outputs": [],
   "source": [
    "a1 = linear_layer(x_train[0].reshape(1,1))"
   ]
  },
  {
   "cell_type": "code",
   "execution_count": 29,
   "id": "c3b66642-166b-48ef-abc6-a160c86f1b76",
   "metadata": {},
   "outputs": [
    {
     "data": {
      "text/plain": [
       "<tf.Tensor: shape=(1, 1), dtype=float32, numpy=array([[0.40393007]], dtype=float32)>"
      ]
     },
     "execution_count": 29,
     "metadata": {},
     "output_type": "execute_result"
    }
   ],
   "source": [
    "a1"
   ]
  },
  {
   "cell_type": "code",
   "execution_count": 30,
   "id": "17159176-b0f1-48a8-8ee6-c9edbfc718e8",
   "metadata": {},
   "outputs": [],
   "source": [
    "w,b=linear_layer.get_weights()"
   ]
  },
  {
   "cell_type": "code",
   "execution_count": 31,
   "id": "6b203d4b-4c6d-4107-b20c-d822d704cf92",
   "metadata": {},
   "outputs": [
    {
     "data": {
      "text/plain": [
       "(array([[0.40393007]], dtype=float32), array([0.], dtype=float32))"
      ]
     },
     "execution_count": 31,
     "metadata": {},
     "output_type": "execute_result"
    }
   ],
   "source": [
    "w,b"
   ]
  },
  {
   "cell_type": "markdown",
   "id": "a17f8132-8a65-4b6d-b605-3dbeebc2b29a",
   "metadata": {},
   "source": [
    "##### we can see that the result is a tensor (another name for an array) with a shape of (1,1) or one entry. Now let's look at the weights and bias. These weights are randomly initialized to small numbers and the bias defaults to being initialized to zero"
   ]
  },
  {
   "cell_type": "markdown",
   "id": "fb106e77-5d84-44d3-8acd-cccd12ba100f",
   "metadata": {},
   "source": [
    "#### we can also set the weights using numpy arrays according to the dimensions of a"
   ]
  },
  {
   "cell_type": "code",
   "execution_count": 33,
   "id": "b3478bc5-1870-4815-aa36-580d8b5563fc",
   "metadata": {},
   "outputs": [],
   "source": [
    "set_w = np.array([[200]])\n",
    "set_b = np.array([100])"
   ]
  },
  {
   "cell_type": "code",
   "execution_count": 34,
   "id": "6df0bc42-caff-47ff-9113-6a935ef6b940",
   "metadata": {},
   "outputs": [
    {
     "data": {
      "text/plain": [
       "[array([[200.]], dtype=float32), array([100.], dtype=float32)]"
      ]
     },
     "execution_count": 34,
     "metadata": {},
     "output_type": "execute_result"
    }
   ],
   "source": [
    "linear_layer.set_weights([set_w,set_b])\n",
    "linear_layer.get_weights()"
   ]
  },
  {
   "cell_type": "code",
   "execution_count": 36,
   "id": "3a00cc17-7b3f-4a9a-843c-57d604108a4b",
   "metadata": {},
   "outputs": [],
   "source": [
    "alin = np.dot(set_w,x_train[0].reshape(1,1))+set_b"
   ]
  },
  {
   "cell_type": "code",
   "execution_count": 37,
   "id": "7817225e-7a9e-4867-b6cb-dcba790e7353",
   "metadata": {},
   "outputs": [
    {
     "data": {
      "text/plain": [
       "array([[300.]])"
      ]
     },
     "execution_count": 37,
     "metadata": {},
     "output_type": "execute_result"
    }
   ],
   "source": [
    "alin"
   ]
  },
  {
   "cell_type": "code",
   "execution_count": 38,
   "id": "3abdc2f6-b553-45a7-a8f9-f02da1dea48e",
   "metadata": {},
   "outputs": [],
   "source": [
    "prediction_tf = linear_layer(x_train)\n",
    "prediction_np = np.dot(x_train,set_w)+set_b"
   ]
  },
  {
   "cell_type": "code",
   "execution_count": 39,
   "id": "79e70228-3050-48a2-b22b-a79248cef370",
   "metadata": {},
   "outputs": [
    {
     "data": {
      "text/plain": [
       "array([[300.],\n",
       "       [500.]])"
      ]
     },
     "execution_count": 39,
     "metadata": {},
     "output_type": "execute_result"
    }
   ],
   "source": [
    "prediction_np"
   ]
  },
  {
   "cell_type": "markdown",
   "id": "484f58ed-0ce9-4119-9a71-08bd5620c868",
   "metadata": {},
   "source": [
    "## Neuron with Sigmoid activation"
   ]
  },
  {
   "cell_type": "code",
   "execution_count": 44,
   "id": "b3aa722b-473d-45f6-a6f9-29405bcb8995",
   "metadata": {},
   "outputs": [],
   "source": [
    "x_train = np.array([0,1,2,3,4,5],dtype=np.float32).reshape(-1,1)\n",
    "y_train = np.array([0,0,0,1,1,1],dtype=np.float32).reshape(-1,1)"
   ]
  },
  {
   "cell_type": "code",
   "execution_count": 45,
   "id": "0ff00bc9-8ea0-4867-8957-c0195c33f6c1",
   "metadata": {},
   "outputs": [
    {
     "data": {
      "text/plain": [
       "(6, 1)"
      ]
     },
     "execution_count": 45,
     "metadata": {},
     "output_type": "execute_result"
    }
   ],
   "source": [
    "x_train.shape"
   ]
  },
  {
   "cell_type": "code",
   "execution_count": 46,
   "id": "4246f71d-7e8d-450d-91a8-c347d20b6db9",
   "metadata": {},
   "outputs": [
    {
     "data": {
      "text/plain": [
       "(6, 1)"
      ]
     },
     "execution_count": 46,
     "metadata": {},
     "output_type": "execute_result"
    }
   ],
   "source": [
    "y_train.shape"
   ]
  },
  {
   "cell_type": "code",
   "execution_count": 50,
   "id": "a8a1342a-4721-4ee5-856a-c8cfb17bdd8b",
   "metadata": {},
   "outputs": [
    {
     "data": {
      "image/png": "[encoded data removed]",
      "text/plain": [
       "<Figure size 400x300 with 1 Axes>"
      ]
     },
     "metadata": {},
     "output_type": "display_data"
    }
   ],
   "source": [
    "pos = y_train == 1\n",
    "neg = y_train == 0\n",
    "\n",
    "fig,ax = plt.subplots(1,1,figsize=(4,3))\n",
    "ax.scatter(x_train[pos], y_train[pos], marker='x', s=80, c = 'red', label=\"y=1\")\n",
    "ax.scatter(x_train[neg], y_train[neg], marker='o', s=100, label=\"y=0\", c='blue', lw=3)\n",
    "\n",
    "ax.set_ylim(-0.08,1.1)\n",
    "ax.set_ylabel('y', fontsize=12)\n",
    "ax.set_xlabel('x', fontsize=12)\n",
    "ax.set_title('one variable plot')\n",
    "ax.legend(fontsize=12)\n",
    "plt.show()"
   ]
  },
  {
   "cell_type": "markdown",
   "id": "56a9a9fc-0229-4b06-b2cc-f45b49d808f2",
   "metadata": {},
   "source": [
    "#### We will create using sequential models, as generally we deal with multiple layers"
   ]
  },
  {
   "cell_type": "code",
   "execution_count": 51,
   "id": "8866dd0b-7e06-4682-b1ea-6acf56167032",
   "metadata": {},
   "outputs": [],
   "source": [
    "from tensorflow.keras import Sequential\n",
    "from tensorflow.keras.layers import Dense "
   ]
  },
  {
   "cell_type": "markdown",
   "id": "a7d28abb-e784-4859-9879-c95eec284bf8",
   "metadata": {},
   "source": [
    "##### We can implement a 'logistic neuron' by adding a sigmoid activation. The function of the neuron is then described by (2) above. This section will create a Tensorflow Model that contains our logistic layer to demonstrate an alternate method of creating models. Tensorflow is most often used to create multi-layer models. The Sequential model is a convenient means of constructing these models."
   ]
  },
  {
   "cell_type": "code",
   "execution_count": 60,
   "id": "191bf684-e9be-4542-b4b6-bb29b058166c",
   "metadata": {},
   "outputs": [],
   "source": [
    "model = Sequential(\n",
    "    [\n",
    "        Dense(units=1,activation='sigmoid',input_dim=1,name='L1')\n",
    "    ]\n",
    ")"
   ]
  },
  {
   "cell_type": "markdown",
   "id": "bb41fe30-8ec2-4a6b-848a-912a962a7e24",
   "metadata": {},
   "source": [
    "##### model.summary() shows the layers and number of parameters in the model. There is only one layer in this model and that layer has only one unit. The unit has two parameters,  𝑤 and 𝑏."
   ]
  },
  {
   "cell_type": "code",
   "execution_count": 61,
   "id": "21b1ce2c-8bd9-43c7-935d-cc8735e0768a",
   "metadata": {},
   "outputs": [
    {
     "data": {
      "text/html": [
       "<pre style=\"white-space:pre;overflow-x:auto;line-height:normal;font-family:Menlo,'DejaVu Sans Mono',consolas,'Courier New',monospace\"><span style=\"font-weight: bold\">Model: \"sequential_3\"</span>\n",
       "</pre>\n"
      ],
      "text/plain": [
       "\u001b[1mModel: \"sequential_3\"\u001b[0m\n"
      ]
     },
     "metadata": {},
     "output_type": "display_data"
    },
    {
     "data": {
      "text/html": [
       "<pre style=\"white-space:pre;overflow-x:auto;line-height:normal;font-family:Menlo,'DejaVu Sans Mono',consolas,'Courier New',monospace\">┏━━━━━━━━━━━━━━━━━━━━━━━━━━━━━━━━━━━━━━┳━━━━━━━━━━━━━━━━━━━━━━━━━━━━━┳━━━━━━━━━━━━━━━━━┓\n",
       "┃<span style=\"font-weight: bold\"> Layer (type)                         </span>┃<span style=\"font-weight: bold\"> Output Shape                </span>┃<span style=\"font-weight: bold\">         Param # </span>┃\n",
       "┡━━━━━━━━━━━━━━━━━━━━━━━━━━━━━━━━━━━━━━╇━━━━━━━━━━━━━━━━━━━━━━━━━━━━━╇━━━━━━━━━━━━━━━━━┩\n",
       "│ L1 (<span style=\"color: #0087ff; text-decoration-color: #0087ff\">Dense</span>)                           │ (<span style=\"color: #00d7ff; text-decoration-color: #00d7ff\">None</span>, <span style=\"color: #00af00; text-decoration-color: #00af00\">1</span>)                   │               <span style=\"color: #00af00; text-decoration-color: #00af00\">2</span> │\n",
       "└──────────────────────────────────────┴─────────────────────────────┴─────────────────┘\n",
       "</pre>\n"
      ],
      "text/plain": [
       "┏━━━━━━━━━━━━━━━━━━━━━━━━━━━━━━━━━━━━━━┳━━━━━━━━━━━━━━━━━━━━━━━━━━━━━┳━━━━━━━━━━━━━━━━━┓\n",
       "┃\u001b[1m \u001b[0m\u001b[1mLayer (type)                        \u001b[0m\u001b[1m \u001b[0m┃\u001b[1m \u001b[0m\u001b[1mOutput Shape               \u001b[0m\u001b[1m \u001b[0m┃\u001b[1m \u001b[0m\u001b[1m        Param #\u001b[0m\u001b[1m \u001b[0m┃\n",
       "┡━━━━━━━━━━━━━━━━━━━━━━━━━━━━━━━━━━━━━━╇━━━━━━━━━━━━━━━━━━━━━━━━━━━━━╇━━━━━━━━━━━━━━━━━┩\n",
       "│ L1 (\u001b[38;5;33mDense\u001b[0m)                           │ (\u001b[38;5;45mNone\u001b[0m, \u001b[38;5;34m1\u001b[0m)                   │               \u001b[38;5;34m2\u001b[0m │\n",
       "└──────────────────────────────────────┴─────────────────────────────┴─────────────────┘\n"
      ]
     },
     "metadata": {},
     "output_type": "display_data"
    },
    {
     "data": {
      "text/html": [
       "<pre style=\"white-space:pre;overflow-x:auto;line-height:normal;font-family:Menlo,'DejaVu Sans Mono',consolas,'Courier New',monospace\"><span style=\"font-weight: bold\"> Total params: </span><span style=\"color: #00af00; text-decoration-color: #00af00\">2</span> (8.00 B)\n",
       "</pre>\n"
      ],
      "text/plain": [
       "\u001b[1m Total params: \u001b[0m\u001b[38;5;34m2\u001b[0m (8.00 B)\n"
      ]
     },
     "metadata": {},
     "output_type": "display_data"
    },
    {
     "data": {
      "text/html": [
       "<pre style=\"white-space:pre;overflow-x:auto;line-height:normal;font-family:Menlo,'DejaVu Sans Mono',consolas,'Courier New',monospace\"><span style=\"font-weight: bold\"> Trainable params: </span><span style=\"color: #00af00; text-decoration-color: #00af00\">2</span> (8.00 B)\n",
       "</pre>\n"
      ],
      "text/plain": [
       "\u001b[1m Trainable params: \u001b[0m\u001b[38;5;34m2\u001b[0m (8.00 B)\n"
      ]
     },
     "metadata": {},
     "output_type": "display_data"
    },
    {
     "data": {
      "text/html": [
       "<pre style=\"white-space:pre;overflow-x:auto;line-height:normal;font-family:Menlo,'DejaVu Sans Mono',consolas,'Courier New',monospace\"><span style=\"font-weight: bold\"> Non-trainable params: </span><span style=\"color: #00af00; text-decoration-color: #00af00\">0</span> (0.00 B)\n",
       "</pre>\n"
      ],
      "text/plain": [
       "\u001b[1m Non-trainable params: \u001b[0m\u001b[38;5;34m0\u001b[0m (0.00 B)\n"
      ]
     },
     "metadata": {},
     "output_type": "display_data"
    }
   ],
   "source": [
    "model.summary()"
   ]
  },
  {
   "cell_type": "code",
   "execution_count": 62,
   "id": "b050c3aa-31c3-4595-8b81-ae65fde08410",
   "metadata": {},
   "outputs": [
    {
     "name": "stdout",
     "output_type": "stream",
     "text": [
      "[[-0.49635518]] [0.]\n",
      "(1, 1) (1,)\n"
     ]
    }
   ],
   "source": [
    "logistic_layer = model.get_layer('L1')\n",
    "w,b = logistic_layer.get_weights()\n",
    "print(w,b)\n",
    "print(w.shape,b.shape)"
   ]
  },
  {
   "cell_type": "code",
   "execution_count": 63,
   "id": "c2738533-12fa-4a61-ad18-3af5a033992b",
   "metadata": {},
   "outputs": [
    {
     "name": "stdout",
     "output_type": "stream",
     "text": [
      "[array([[2.]], dtype=float32), array([-4.5], dtype=float32)]\n"
     ]
    }
   ],
   "source": [
    "set_w = np.array([[2]])\n",
    "set_b = np.array([-4.5])\n",
    "# set_weights takes a list of numpy arrays\n",
    "logistic_layer.set_weights([set_w, set_b])\n",
    "print(logistic_layer.get_weights())"
   ]
  },
  {
   "cell_type": "code",
   "execution_count": 65,
   "id": "8213d756-f6c8-45a8-af0e-752d9a5b6aa9",
   "metadata": {},
   "outputs": [
    {
     "name": "stdout",
     "output_type": "stream",
     "text": [
      "\u001b[1m1/1\u001b[0m \u001b[32m━━━━━━━━━━━━━━━━━━━━\u001b[0m\u001b[37m\u001b[0m \u001b[1m0s\u001b[0m 158ms/step\n",
      "[[0.01098694]]\n"
     ]
    },
    {
     "ename": "NameError",
     "evalue": "name 'sigmoidnp' is not defined",
     "output_type": "error",
     "traceback": [
      "\u001b[1;31m---------------------------------------------------------------------------\u001b[0m",
      "\u001b[1;31mNameError\u001b[0m                                 Traceback (most recent call last)",
      "Cell \u001b[1;32mIn[65], line 3\u001b[0m\n\u001b[0;32m      1\u001b[0m a1 \u001b[38;5;241m=\u001b[39m model\u001b[38;5;241m.\u001b[39mpredict(x_train[\u001b[38;5;241m0\u001b[39m]\u001b[38;5;241m.\u001b[39mreshape(\u001b[38;5;241m1\u001b[39m,\u001b[38;5;241m1\u001b[39m))\n\u001b[0;32m      2\u001b[0m \u001b[38;5;28mprint\u001b[39m(a1)\n\u001b[1;32m----> 3\u001b[0m alog \u001b[38;5;241m=\u001b[39m sigmoidnp(np\u001b[38;5;241m.\u001b[39mdot(set_w,x_train[\u001b[38;5;241m0\u001b[39m]\u001b[38;5;241m.\u001b[39mreshape(\u001b[38;5;241m1\u001b[39m,\u001b[38;5;241m1\u001b[39m)) \u001b[38;5;241m+\u001b[39m set_b)\n\u001b[0;32m      4\u001b[0m \u001b[38;5;28mprint\u001b[39m(alog)\n",
      "\u001b[1;31mNameError\u001b[0m: name 'sigmoidnp' is not defined"
     ]
    }
   ],
   "source": [
    "a1 = model.predict(x_train[0].reshape(1,1))\n",
    "print(a1)\n",
    "alog = sigmoidnp(np.dot(set_w,x_train[0].reshape(1,1)) + set_b)\n",
    "print(alog)"
   ]
  },
  {
   "cell_type": "code",
   "execution_count": null,
   "id": "044bbb89-f03a-4641-b1ba-6cc3059962bb",
   "metadata": {},
   "outputs": [],
   "source": []
  }
 ],
 "metadata": {
  "kernelspec": {
   "display_name": "Python 3 (ipykernel)",
   "language": "python",
   "name": "python3"
  },
  "language_info": {
   "codemirror_mode": {
    "name": "ipython",
    "version": 3
   },
   "file_extension": ".py",
   "mimetype": "text/x-python",
   "name": "python",
   "nbconvert_exporter": "python",
   "pygments_lexer": "ipython3",
   "version": "3.11.7"
  }
 },
 "nbformat": 4,
 "nbformat_minor": 5
}
