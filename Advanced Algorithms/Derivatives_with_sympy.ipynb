{
 "cells": [
  {
   "cell_type": "code",
   "execution_count": 2,
   "id": "c34740e4-4464-4ec8-a98f-58775bfb4f2b",
   "metadata": {},
   "outputs": [],
   "source": [
    "import sympy"
   ]
  },
  {
   "cell_type": "markdown",
   "id": "f68fc2d4-a48d-4c50-ab37-410aeecd52e1",
   "metadata": {},
   "source": [
    "### sympy is like symbols in python"
   ]
  },
  {
   "cell_type": "markdown",
   "id": "34fc49db-8022-4ad1-9d7c-5560ef747076",
   "metadata": {},
   "source": [
    "#### 1. Create symbols"
   ]
  },
  {
   "cell_type": "code",
   "execution_count": 3,
   "id": "5eef632d-2724-4b30-8833-2c9dcd0e7577",
   "metadata": {},
   "outputs": [],
   "source": [
    "J,w = sympy.symbols('J,w')"
   ]
  },
  {
   "cell_type": "code",
   "execution_count": 4,
   "id": "6f8f641a-cf53-415f-aace-fc36482162d8",
   "metadata": {},
   "outputs": [
    {
     "data": {
      "text/latex": [
       "$\\displaystyle w^{2}$"
      ],
      "text/plain": [
       "w**2"
      ]
     },
     "execution_count": 4,
     "metadata": {},
     "output_type": "execute_result"
    }
   ],
   "source": [
    "J=w**2\n",
    "J"
   ]
  },
  {
   "cell_type": "markdown",
   "id": "eadad7d8-da99-425c-a5e4-8b123e766241",
   "metadata": {},
   "source": [
    "#### differentiation calculate"
   ]
  },
  {
   "cell_type": "code",
   "execution_count": 9,
   "id": "2d59bb8e-4496-42da-a734-e6463c4fa877",
   "metadata": {},
   "outputs": [
    {
     "data": {
      "text/latex": [
       "$\\displaystyle 2 w$"
      ],
      "text/plain": [
       "2*w"
      ]
     },
     "execution_count": 9,
     "metadata": {},
     "output_type": "execute_result"
    }
   ],
   "source": [
    "dj_dw=sympy.diff(J)\n",
    "dj_dw"
   ]
  },
  {
   "cell_type": "markdown",
   "id": "9ac189f8-9772-4576-b544-8d149686cbb8",
   "metadata": {},
   "source": [
    "#### Substitue J vale"
   ]
  },
  {
   "cell_type": "code",
   "execution_count": 11,
   "id": "e1130ace-c6ed-43b7-b129-a27bd8c953c2",
   "metadata": {},
   "outputs": [
    {
     "data": {
      "text/latex": [
       "$\\displaystyle 4$"
      ],
      "text/plain": [
       "4"
      ]
     },
     "execution_count": 11,
     "metadata": {},
     "output_type": "execute_result"
    }
   ],
   "source": [
    "dj_dw.subs([(w,2)])"
   ]
  },
  {
   "cell_type": "code",
   "execution_count": null,
   "id": "1d617c21-a1d5-431e-b6d8-94ec3a8a9962",
   "metadata": {},
   "outputs": [],
   "source": []
  }
 ],
 "metadata": {
  "kernelspec": {
   "display_name": "Python 3 (ipykernel)",
   "language": "python",
   "name": "python3"
  },
  "language_info": {
   "codemirror_mode": {
    "name": "ipython",
    "version": 3
   },
   "file_extension": ".py",
   "mimetype": "text/x-python",
   "name": "python",
   "nbconvert_exporter": "python",
   "pygments_lexer": "ipython3",
   "version": "3.11.7"
  }
 },
 "nbformat": 4,
 "nbformat_minor": 5
}
