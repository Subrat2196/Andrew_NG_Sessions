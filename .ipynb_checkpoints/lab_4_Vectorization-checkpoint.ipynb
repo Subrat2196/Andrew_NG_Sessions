{
 "cells": [
  {
   "cell_type": "code",
   "execution_count": 1,
   "id": "ab0ff4a3-88bd-4c00-ba60-d7e5fac8af5a",
   "metadata": {},
   "outputs": [],
   "source": [
    "import numpy as np"
   ]
  },
  {
   "cell_type": "code",
   "execution_count": 3,
   "id": "b109cdf7-4536-43bd-9f06-eaeaf55b53aa",
   "metadata": {},
   "outputs": [],
   "source": [
    "import time"
   ]
  },
  {
   "cell_type": "code",
   "execution_count": 7,
   "id": "12a34491-4352-4b8e-a6c6-5f977ed95cbb",
   "metadata": {},
   "outputs": [
    {
     "data": {
      "text/plain": [
       "array([0., 0., 0., 0.])"
      ]
     },
     "execution_count": 7,
     "metadata": {},
     "output_type": "execute_result"
    }
   ],
   "source": [
    "np.zeros(4)"
   ]
  },
  {
   "cell_type": "code",
   "execution_count": 8,
   "id": "59155cd6-56db-4499-a840-e91dec596a6c",
   "metadata": {},
   "outputs": [
    {
     "data": {
      "text/plain": [
       "array([0., 0., 0., 0.])"
      ]
     },
     "execution_count": 8,
     "metadata": {},
     "output_type": "execute_result"
    }
   ],
   "source": [
    "np.zeros((4))"
   ]
  },
  {
   "cell_type": "code",
   "execution_count": 9,
   "id": "6b8ab18b-a5a6-424a-a8f8-1ad50a5d79d7",
   "metadata": {},
   "outputs": [
    {
     "data": {
      "text/plain": [
       "array([[0., 0., 0., 0.],\n",
       "       [0., 0., 0., 0.],\n",
       "       [0., 0., 0., 0.],\n",
       "       [0., 0., 0., 0.]])"
      ]
     },
     "execution_count": 9,
     "metadata": {},
     "output_type": "execute_result"
    }
   ],
   "source": [
    "np.zeros((4,4))"
   ]
  },
  {
   "cell_type": "markdown",
   "id": "cfb153b7-1a5b-492a-a4fa-ce17380b3723",
   "metadata": {},
   "source": [
    "### Time Difference between dot product using loop and using numpy -> numpy is faster"
   ]
  },
  {
   "cell_type": "code",
   "execution_count": 51,
   "id": "cd1948b8-975e-4cc3-bb5c-69b4d74d8027",
   "metadata": {},
   "outputs": [],
   "source": [
    "a = np.array([1,2,3,4,5,6])\n",
    "b = np.array([6,5,4,3,2,1])"
   ]
  },
  {
   "cell_type": "code",
   "execution_count": 52,
   "id": "9cc47b90-9bf3-4c92-8347-68dbc2f67403",
   "metadata": {},
   "outputs": [
    {
     "data": {
      "text/plain": [
       "array([1, 2, 3, 4, 5, 6])"
      ]
     },
     "execution_count": 52,
     "metadata": {},
     "output_type": "execute_result"
    }
   ],
   "source": [
    "a"
   ]
  },
  {
   "cell_type": "code",
   "execution_count": 53,
   "id": "6da6bad7-679a-4815-bc16-1a9dd1481c68",
   "metadata": {},
   "outputs": [
    {
     "data": {
      "text/plain": [
       "(6,)"
      ]
     },
     "execution_count": 53,
     "metadata": {},
     "output_type": "execute_result"
    }
   ],
   "source": [
    "a.shape"
   ]
  },
  {
   "cell_type": "code",
   "execution_count": 64,
   "id": "cd590c00-1717-4536-9e10-cea9b5615225",
   "metadata": {},
   "outputs": [
    {
     "name": "stdout",
     "output_type": "stream",
     "text": [
      "np.dot(a, b) =  56.0000\n",
      "Vectorized version duration: 2.6934 ms \n"
     ]
    }
   ],
   "source": [
    "a=np.random.rand(1000000)\n",
    "b=np.random.rand(1000000)\n",
    "tic = time.time()\n",
    "np.dot(a,b)\n",
    "toc = time.time()\n",
    "print(f\"np.dot(a, b) =  {c:.4f}\")\n",
    "print(f\"Vectorized version duration: {1000*(toc-tic):.4f} ms \")"
   ]
  },
  {
   "cell_type": "code",
   "execution_count": 65,
   "id": "54fb6231-03fb-466d-ac5d-82cdd32a73b1",
   "metadata": {},
   "outputs": [],
   "source": [
    "def dot_product(a,b):\n",
    "    sum = 0\n",
    "    for i in range(a.shape[0]):\n",
    "        sum=sum+a[i]*b[i]\n",
    "    return sum"
   ]
  },
  {
   "cell_type": "code",
   "execution_count": 66,
   "id": "1934f298-4f96-499c-8457-e7964eebb894",
   "metadata": {},
   "outputs": [
    {
     "name": "stdout",
     "output_type": "stream",
     "text": [
      "dot_product(a, b) =  250099.70983709\n",
      "loop version duration: 285.02964973 ms \n"
     ]
    }
   ],
   "source": [
    "time_st=time.time()\n",
    "c = dot_product(a,b)\n",
    "time_end=time.time()\n",
    "print(f\"dot_product(a, b) =  {c:.8f}\")\n",
    "print(f\"loop version duration: {1000*(time_end-time_st):.8f} ms \")"
   ]
  },
  {
   "cell_type": "code",
   "execution_count": 58,
   "id": "e2723a54-71ff-40ca-92f2-aa3a1e3c57a2",
   "metadata": {},
   "outputs": [
    {
     "data": {
      "text/plain": [
       "56"
      ]
     },
     "execution_count": 58,
     "metadata": {},
     "output_type": "execute_result"
    }
   ],
   "source": [
    "sum"
   ]
  },
  {
   "cell_type": "code",
   "execution_count": 70,
   "id": "e8ed06b8-70e3-4a31-b28c-c1ba4ac2a9ab",
   "metadata": {},
   "outputs": [
    {
     "data": {
      "text/plain": [
       "array([[0, 1],\n",
       "       [2, 3],\n",
       "       [4, 5]])"
      ]
     },
     "execution_count": 70,
     "metadata": {},
     "output_type": "execute_result"
    }
   ],
   "source": [
    "np.arange(6).reshape(-1,2)"
   ]
  },
  {
   "cell_type": "code",
   "execution_count": null,
   "id": "a439ed8e-f5f3-40af-8754-fcd6486f190e",
   "metadata": {},
   "outputs": [],
   "source": []
  }
 ],
 "metadata": {
  "kernelspec": {
   "display_name": "Python 3 (ipykernel)",
   "language": "python",
   "name": "python3"
  },
  "language_info": {
   "codemirror_mode": {
    "name": "ipython",
    "version": 3
   },
   "file_extension": ".py",
   "mimetype": "text/x-python",
   "name": "python",
   "nbconvert_exporter": "python",
   "pygments_lexer": "ipython3",
   "version": "3.11.7"
  }
 },
 "nbformat": 4,
 "nbformat_minor": 5
}
