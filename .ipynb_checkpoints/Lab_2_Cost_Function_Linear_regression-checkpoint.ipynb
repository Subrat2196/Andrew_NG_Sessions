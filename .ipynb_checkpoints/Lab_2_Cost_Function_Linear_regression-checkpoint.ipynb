{
 "cells": [
  {
   "cell_type": "code",
   "execution_count": 1,
   "id": "bc99b616-7867-45a2-ade0-4ea49561f822",
   "metadata": {},
   "outputs": [],
   "source": [
    "import numpy as np"
   ]
  },
  {
   "cell_type": "code",
   "execution_count": 8,
   "id": "59eb435d-811d-4d33-80b3-626284d47ea7",
   "metadata": {},
   "outputs": [],
   "source": [
    "x_train = np.array([1.0, 2.0])           #(size in 1000 square feet)\n",
    "y_train = np.array([300.0, 500.0])           #(price in 1000s of dollars)"
   ]
  },
  {
   "cell_type": "code",
   "execution_count": 9,
   "id": "736882e2-3cfd-4be8-bf79-068910db9465",
   "metadata": {},
   "outputs": [],
   "source": [
    "def cost_function(x,y,w,b):\n",
    "    m=x.shape[0]\n",
    "    sum_squared_error=0\n",
    "    for i in range(m):\n",
    "        f_wb = w*x[i]+b\n",
    "        squared_error = (f_wb-y[i])**2\n",
    "        sum_squared_error = sum_squared_error+squared_error\n",
    "\n",
    "    cost=sum_squared_error/(2*m)\n",
    "    return cost\n",
    "    "
   ]
  },
  {
   "cell_type": "code",
   "execution_count": null,
   "id": "f092d2aa-b6ac-4036-9708-5a572ae08d9b",
   "metadata": {},
   "outputs": [],
   "source": [
    "cost_function(x_train,y_train,"
   ]
  }
 ],
 "metadata": {
  "kernelspec": {
   "display_name": "Python 3 (ipykernel)",
   "language": "python",
   "name": "python3"
  },
  "language_info": {
   "codemirror_mode": {
    "name": "ipython",
    "version": 3
   },
   "file_extension": ".py",
   "mimetype": "text/x-python",
   "name": "python",
   "nbconvert_exporter": "python",
   "pygments_lexer": "ipython3",
   "version": "3.11.7"
  }
 },
 "nbformat": 4,
 "nbformat_minor": 5
}
