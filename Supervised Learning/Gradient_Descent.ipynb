{
 "cells": [
  {
   "cell_type": "markdown",
   "id": "a1f2df6b-5b56-4543-9e7e-539c660b7b90",
   "metadata": {},
   "source": [
    "# this is grandient descent file"
   ]
  },
  {
   "cell_type": "code",
   "execution_count": null,
   "id": "1c7b9943-52a2-4d1e-a683-51f49cc1a23d",
   "metadata": {},
   "outputs": [],
   "source": []
  }
 ],
 "metadata": {
  "kernelspec": {
   "display_name": "Python 3 (ipykernel)",
   "language": "python",
   "name": "python3"
  },
  "language_info": {
   "codemirror_mode": {
    "name": "ipython",
    "version": 3
   },
   "file_extension": ".py",
   "mimetype": "text/x-python",
   "name": "python",
   "nbconvert_exporter": "python",
   "pygments_lexer": "ipython3",
   "version": "3.11.7"
  }
 },
 "nbformat": 4,
 "nbformat_minor": 5
}
